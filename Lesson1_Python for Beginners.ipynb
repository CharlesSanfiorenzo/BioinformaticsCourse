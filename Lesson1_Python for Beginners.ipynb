{
 "cells": [
  {
   "cell_type": "markdown",
   "metadata": {},
   "source": [
    "![Alt Text](./Imgs/python-logo-generic.png)\n",
    "# Introduction to Python.\n",
    "***"
   ]
  },
  {
   "cell_type": "markdown",
   "metadata": {},
   "source": [
    "## About."
   ]
  },
  {
   "cell_type": "markdown",
   "metadata": {},
   "source": [
    "This course will focus on teaching basic programming skills in Python. It is intended for individuals who have never written in Python, but wish to learn the ropes in a quick and efficient manner. We encourage students to pursue external teaching resources if they find this course useful."
   ]
  },
  {
   "cell_type": "markdown",
   "metadata": {},
   "source": [
    "## Using Jupyter."
   ]
  },
  {
   "cell_type": "markdown",
   "metadata": {},
   "source": [
    "Before delving into Python, let's try to understand ***what Jupyter is and how to use it***. Jupyter is an interactive Python notebook that was designed to ease the process of making program annotations and teaching one's code to others. If you have access to this document, it's because either (i) you were handed a PDF/Jupyter file copy of this course, or (ii) you are currently accessing a GitHub or Jupyter server hosted by one of the course administrators. Jupyter essentially allows one to write and run Python code in cells without having to worry about dependencies.\n",
    "\n",
    "![Alt Text](./Imgs/Jupyter_Use.png)"
   ]
  },
  {
   "cell_type": "markdown",
   "metadata": {},
   "source": [
    "## Why Python."
   ]
  },
  {
   "cell_type": "markdown",
   "metadata": {},
   "source": [
    "Python stands out amongst other scripting programming languages based on two criteria: **simplicity** and **accessibility**.  \n",
    " \n",
    "- **Simplicity**: Easy to write and easy to read. Since there is no compilation step in Python, the edit-test-debug cycle is incredibly easy & fast. Wanna see? Let's have a look - try running the line of code below."
   ]
  },
  {
   "cell_type": "code",
   "execution_count": 8,
   "metadata": {},
   "outputs": [
    {
     "ename": "SyntaxError",
     "evalue": "invalid syntax (<ipython-input-8-898d2b40ca9e>, line 1)",
     "output_type": "error",
     "traceback": [
      "\u001b[0;36m  File \u001b[0;32m\"<ipython-input-8-898d2b40ca9e>\"\u001b[0;36m, line \u001b[0;32m1\u001b[0m\n\u001b[0;31m    print(Hello World!)\u001b[0m\n\u001b[0m                    ^\u001b[0m\n\u001b[0;31mSyntaxError\u001b[0m\u001b[0;31m:\u001b[0m invalid syntax\n"
     ]
    }
   ],
   "source": [
    "print(Hello World!)"
   ]
  },
  {
   "cell_type": "markdown",
   "metadata": {},
   "source": [
    "> You should see a \"Syntax Error\" displayed above on screen, along with the line number and content that is causing said error. This run-report dynamic makes troubleshooting a breeze once you know the basics."
   ]
  },
  {
   "cell_type": "markdown",
   "metadata": {},
   "source": [
    "- **Accessibility**: Incredibly easy to create and/or use packages with user-made functions, and easy to integrate into high-level projects. Here's an example of an application with GUI entirely written in Python:"
   ]
  },
  {
   "cell_type": "markdown",
   "metadata": {},
   "source": [
    "![Alt Text](./Imgs/WangLabBrowserGenome.png)"
   ]
  },
  {
   "cell_type": "markdown",
   "metadata": {},
   "source": [
    "With an ever growing source of user-made packages for the majority of fields in science, and the ability to compile and license/sell your projects, it is no wonder that Python is becoming the 'go-to' choice for many programmers across the globe."
   ]
  },
  {
   "cell_type": "markdown",
   "metadata": {},
   "source": [
    "## What will this tutorial teach YOU?"
   ]
  },
  {
   "cell_type": "markdown",
   "metadata": {},
   "source": [
    "- [Basic syntax of Python: Keywords, Variables, and Data types](#Basic-Syntax.)\n",
    "- [Operations](#Operations.)\n",
    "- [Conditionals: If/elif/else statements](#Conditionals:-If/elif/else-statements.)\n",
    "- [Lists](#Lists.)\n",
    "- [Loops/cycles](#Loops/Cycles.)\n",
    "- [Functions](#Functions.)\n",
    "- [Read user input in Python](#Read-user-input-in-Python.)\n",
    "- [Read from files in Python](#Read-from-files-in-Python.)\n",
    "- [Packages](#Packages.)\n",
    "- [Final exercise](#Final-Exercise.) (Skip to this part if you think you already know Python!)"
   ]
  },
  {
   "cell_type": "markdown",
   "metadata": {},
   "source": [
    "***"
   ]
  },
  {
   "cell_type": "markdown",
   "metadata": {},
   "source": [
    "## Basic Syntax."
   ]
  },
  {
   "cell_type": "markdown",
   "metadata": {},
   "source": [
    "We've all stumbled upon horribly written questions on Yahoo! Answers at some point. \n",
    "> **\"Goten fet widin the lest 7 months, am i preganart?\"**\n",
    "\n",
    "While humans reading this work of art get what the user is asking, computers can't understand Python if you don't write it correctly - this is what **Syntax** is about. Python possesses a set of reserved **keywords** representing methods that in turn tell the computer what to do, given their correct use. \n",
    "\n",
    "Below you will find a list of common keywords in Python. In this section, we cover examples on how to use the keywords outlined in bold - we'll cover the rest in later sections.\n",
    "\n",
    "- **print**(ANYTHING)\n",
    "- **str**(ANYTHING)\n",
    "- **int**(ANYTHING)\n",
    "- **float**(ANYTHING)\n",
    "- range(NUMBER)\n",
    "- len(LIST/STRING)\n",
    "- if STATEMENT :\n",
    "- elif STATEMENT :\n",
    "- else :\n",
    "- while STATEMENT :\n",
    "- for ELEMENT/INDEX in LIST/RANGE :\n",
    "\n",
    "#### -Print: Output a message on screen\n",
    "The 'print' method will tell the computer to output whatever has been handed to it on the computer screen.\n",
    "\n",
    "In Python 2.7:\n",
    "> print \"Hello World!\"\n",
    "\n",
    "In Python 3:"
   ]
  },
  {
   "cell_type": "code",
   "execution_count": 3,
   "metadata": {},
   "outputs": [
    {
     "name": "stdout",
     "output_type": "stream",
     "text": [
      "Hello World!\n"
     ]
    }
   ],
   "source": [
    "print(\"Hello World!\")"
   ]
  },
  {
   "cell_type": "markdown",
   "metadata": {},
   "source": [
    "We can use **variables** to store information, and then pass it over to methods such as 'print'. Note that the name of variables cannot begin with numbers, and they cannot be identical to already existing keywords. Here's a few examples:"
   ]
  },
  {
   "cell_type": "code",
   "execution_count": 4,
   "metadata": {},
   "outputs": [
    {
     "name": "stdout",
     "output_type": "stream",
     "text": [
      "Bee Movie 2\n",
      "should never happen.\n"
     ]
    }
   ],
   "source": [
    "variable_1 = \"Bee\" #This is a comment, Python will ignore everything in the line after the pound symbol. Use comments to guide your future self and others who might read your code.\n",
    "variable_2 = \"Movie\"\n",
    "variable_3 = 2\n",
    "print(variable_1, variable_2, variable_3)\n",
    "print(\"should never happen.\")"
   ]
  },
  {
   "cell_type": "markdown",
   "metadata": {},
   "source": [
    "You can also store values in multiple variables within the span of a single line in the following way: "
   ]
  },
  {
   "cell_type": "code",
   "execution_count": 5,
   "metadata": {},
   "outputs": [
    {
     "name": "stdout",
     "output_type": "stream",
     "text": [
      "Bee Movie 2\n",
      "should never happen.\n"
     ]
    }
   ],
   "source": [
    "variable_1, variable_2, variable_3 = \"Bee\", \"Movie\", 2\n",
    "print(variable_1, variable_2, variable_3)\n",
    "print(\"should never happen.\")"
   ]
  },
  {
   "cell_type": "markdown",
   "metadata": {},
   "source": [
    "**PRACTICE 1.** Write a program that outputs the following message: *Hello world!*."
   ]
  },
  {
   "cell_type": "code",
   "execution_count": 7,
   "metadata": {},
   "outputs": [],
   "source": [
    "#Write your program here.\n"
   ]
  },
  {
   "cell_type": "markdown",
   "metadata": {},
   "source": [
    "In the real world, you will be using annotation systems when reading from or writing to files. The 'print' method itself has certain keywords that help out with formatting output. The keyword 'sep' is used to specify the separator between the terms provided to the print method. In our \"Bee Movie 2\" examples, you will notice that each variable is separated by a single space. Hence, the default separator of print is sep=' '. In the following line of code, we have changed the default separator of the first 'print' to the symbol *'@'* :"
   ]
  },
  {
   "cell_type": "code",
   "execution_count": 6,
   "metadata": {},
   "outputs": [
    {
     "name": "stdout",
     "output_type": "stream",
     "text": [
      "Bee@Movie@2\n",
      "should never happen.\n"
     ]
    }
   ],
   "source": [
    "variable_1, variable_2, variable_3 = \"Bee\", \"Movie\", 2\n",
    "print(variable_1, variable_2, variable_3, sep='@')\n",
    "print(\"should never happen.\")"
   ]
  },
  {
   "cell_type": "markdown",
   "metadata": {},
   "source": [
    "The keyword 'end' is also used to determine the trailing character in the output of the 'print' method. By default, the 'print' method ends each output with the hidden new line character *'\\n'*. In the following line of code, we have changed the default ending character of 'print' to a tab ('\\t') :"
   ]
  },
  {
   "cell_type": "code",
   "execution_count": 7,
   "metadata": {},
   "outputs": [
    {
     "name": "stdout",
     "output_type": "stream",
     "text": [
      "Bee Movie 2\tshould never happen.\n"
     ]
    }
   ],
   "source": [
    "variable_1, variable_2, variable_3 = \"Bee\", \"Movie\", 2\n",
    "print(variable_1, variable_2, variable_3, end='\\t')\n",
    "print(\"should never happen.\")"
   ]
  },
  {
   "cell_type": "markdown",
   "metadata": {},
   "source": [
    "However, 'print' has a catch: it can only output recognizable **data types**. A **data type** simply refers to the type of information that is being handled by a method and/or stored in a variable. Although Python possesses a plethora of data types (heck, you can even create your own), you can build any program in Python just by knowing and using five different data types:\n",
    "\n",
    "- Strings\n",
    "- Integers\n",
    "- Floating numbers\n",
    "- Booleans\n",
    "- Lists\n",
    "\n",
    "**Strings** are essentially a sequence of characters. Strings are usually encased within apostrophes or quotation marks (e.g. 'String' or \"String\") when provided to a method.\n",
    "\n",
    "**Integers** are positive or negative whole numbers (i.e. ...,-1,0,1,2,3,...), typically used for counting purposes.\n",
    "\n",
    "**Floating numbers** are numbers that possess a decimal point, typically used for mathematical operations. There are other data types similar to that of floating numbers that take up less space in memory, but we won't discuss them in this tutorial.\n",
    "\n",
    "**Booleans** can only assume one of two values: True or False. \n",
    "\n",
    "**Lists** are arrangements of elements consisting of identical or varying data types. We will talk more about lists in later sections.\n",
    "\n",
    "Data types dictate the **operations** that are in turn allowed for the data. In the scope of this course, an **operation** refers to any type of manipulation that is performed onto a data type. This includes events like concatenation, slicing, addition, multiplication, division, etc.\n",
    "\n",
    "To understand how data types limit the operations available to a given data type, let's consider the following example. While you can perform the operation *1+2*, which equals 3, you can't perform something like *1+\"Hello\"*. In other words, while you can concatenate a string and a string, and sum a number and another number, you can't sum a number and a string. Luckily, Python possesses methods to force data type conversions when needed. \n",
    "\n",
    "- **str()** is a method that tries to convert data types into the string data type."
   ]
  },
  {
   "cell_type": "code",
   "execution_count": 9,
   "metadata": {},
   "outputs": [
    {
     "ename": "TypeError",
     "evalue": "Can't convert 'float' object to str implicitly",
     "output_type": "error",
     "traceback": [
      "\u001b[0;31m---------------------------------------------------------------------------\u001b[0m",
      "\u001b[0;31mTypeError\u001b[0m                                 Traceback (most recent call last)",
      "\u001b[0;32m<ipython-input-9-c3365bfb7170>\u001b[0m in \u001b[0;36m<module>\u001b[0;34m()\u001b[0m\n\u001b[1;32m      1\u001b[0m \u001b[0;31m#Running this will print out a data type error\u001b[0m\u001b[0;34m\u001b[0m\u001b[0;34m\u001b[0m\u001b[0m\n\u001b[0;32m----> 2\u001b[0;31m \u001b[0mprint\u001b[0m\u001b[0;34m(\u001b[0m\u001b[0;34m\"There were \"\u001b[0m \u001b[0;34m+\u001b[0m \u001b[0;36m11.0\u001b[0m\u001b[0;34m)\u001b[0m\u001b[0;34m\u001b[0m\u001b[0m\n\u001b[0m",
      "\u001b[0;31mTypeError\u001b[0m: Can't convert 'float' object to str implicitly"
     ]
    }
   ],
   "source": [
    "#Running this will print out a data type error\n",
    "print(\"There were \" + 11.0) "
   ]
  },
  {
   "cell_type": "code",
   "execution_count": 10,
   "metadata": {},
   "outputs": [
    {
     "name": "stdout",
     "output_type": "stream",
     "text": [
      "There were 11.0\n"
     ]
    }
   ],
   "source": [
    "#Using str() method to convert 11 into a string ('11') fixes the error displayed above.\n",
    "print(\"There were \" + str(11.0))"
   ]
  },
  {
   "cell_type": "markdown",
   "metadata": {},
   "source": [
    "- **int()** is a method that tries to convert data types into the integer data type."
   ]
  },
  {
   "cell_type": "code",
   "execution_count": null,
   "metadata": {},
   "outputs": [],
   "source": [
    "int(11.0)"
   ]
  },
  {
   "cell_type": "markdown",
   "metadata": {},
   "source": [
    "- **float()** is a method that tries to convert data types into the floating number data type."
   ]
  },
  {
   "cell_type": "code",
   "execution_count": null,
   "metadata": {},
   "outputs": [],
   "source": [
    "float(11)"
   ]
  },
  {
   "cell_type": "markdown",
   "metadata": {},
   "source": [
    "## Operations.\n",
    "Okay, so now that we know about data types let's discuss basic mathematical operations in Python:"
   ]
  },
  {
   "cell_type": "code",
   "execution_count": null,
   "metadata": {},
   "outputs": [],
   "source": [
    "print(5 + 3)\n",
    "print(5 - 3)\n",
    "print(5 * 3)\n",
    "print(5 ** 3)\n",
    "print(5 / 3)\n",
    "print(5 // 3) #This will only yield the integer portion of the quotient\n",
    "print(5 % 3)  #This is called the modulo operator, it yields the remainder of a division. This is really useful - remember it.\n",
    "              # 5 = 3(1) + 2 <- "
   ]
  },
  {
   "cell_type": "markdown",
   "metadata": {},
   "source": [
    "**PRACTICE 2.** Write a program that calculates the average of four given numbers. The result must be an integer."
   ]
  },
  {
   "cell_type": "code",
   "execution_count": 18,
   "metadata": {},
   "outputs": [
    {
     "name": "stdout",
     "output_type": "stream",
     "text": [
      "122.25\n"
     ]
    }
   ],
   "source": [
    "number_1, number_2, number_3, number_4 = 124, 276, 67, 22\n",
    "#Write your program here.\n"
   ]
  },
  {
   "cell_type": "markdown",
   "metadata": {},
   "source": [
    "## Conditionals: If/elif/else statements.\n",
    "\n",
    "**Conditional statements** can be considered a set of rules followed only if a certain condition is met. Before getting into conditionals, we should first describe **structure** in Python. Python uses indentation as a way to discern blocks of code that are to be executed together if a given condition is met. In order to keep your code organized, we suggest using tabs for each level of indentation. \n",
    "\n",
    "- **if** : evaluates an overarching statement and perform an action if said statement is true.\n",
    "> Note that conditionals often use comparison operators :\n",
    "  - thing_1 **==** thing_2 : evaluates to **True** if two 'things' are equal.\n",
    "  - thing_1 **!=** thing_2 : evaluates to **True** if two 'things' are NOT equal."
   ]
  },
  {
   "cell_type": "code",
   "execution_count": null,
   "metadata": {},
   "outputs": [],
   "source": [
    "variable_1 = True\n",
    "if variable_1 == True :\n",
    "    print(\"Statement is true!\")"
   ]
  },
  {
   "cell_type": "markdown",
   "metadata": {},
   "source": [
    "- **else** : if the statements before the *'else'* in question evaluate to false, indented code will be executed."
   ]
  },
  {
   "cell_type": "code",
   "execution_count": null,
   "metadata": {},
   "outputs": [],
   "source": [
    "variable_1 = False\n",
    "if variable_1 == True :\n",
    "    print(\"Statement is true!\")\n",
    "else :\n",
    "    print(\"Statement was not satisfied.\")"
   ]
  },
  {
   "cell_type": "markdown",
   "metadata": {},
   "source": [
    "- **elif** : Short for 'else if'. If the first 'if' statement evaluates to false, verify next 'elif' statement. If the 'elif' statement evaluates to false, evaluate the next 'elif' statement, and so on. "
   ]
  },
  {
   "cell_type": "code",
   "execution_count": null,
   "metadata": {},
   "outputs": [],
   "source": [
    "variable_1 = False\n",
    "if variable_1 == True :\n",
    "    print(\"Statement is true!\")\n",
    "elif variable_1 == False :\n",
    "    print(\"Statement is false!\")\n",
    "elif variable_1 == 100 :\n",
    "    print(\"The variable contained the value 100.\")\n",
    "else :\n",
    "    print(\"Statement was not satisfied.\")"
   ]
  },
  {
   "cell_type": "markdown",
   "metadata": {},
   "source": [
    "#### Logical operators used in conditionals: **and** | **or**\n",
    "- **and** : both conditions in question must be met in order for the statement to evaluate to True."
   ]
  },
  {
   "cell_type": "code",
   "execution_count": null,
   "metadata": {},
   "outputs": [],
   "source": [
    "variable_1, variable_2 = True, True\n",
    "if (variable_1 == True) and (variable_2 == True) :\n",
    "    print(\"Both conditions are met.\")"
   ]
  },
  {
   "cell_type": "markdown",
   "metadata": {},
   "source": [
    "- **or** : at least one of two conditions in question must be met in order for the statement to evaluate to True."
   ]
  },
  {
   "cell_type": "code",
   "execution_count": null,
   "metadata": {},
   "outputs": [],
   "source": [
    "variable_1, variable_2 = True, False\n",
    "if (variable_1 == True) or (variable_2 == True) :\n",
    "    print(\"At least one condition is met.\")"
   ]
  },
  {
   "cell_type": "markdown",
   "metadata": {},
   "source": [
    "## Lists.\n",
    "**Lists** are arrangements of elements consisting of identical or varying data types. They are the backbone of the majority of programs written in Python."
   ]
  },
  {
   "cell_type": "code",
   "execution_count": null,
   "metadata": {},
   "outputs": [],
   "source": [
    "#A list in Python can be initialized in the following manner:\n",
    "list_1 = [\"a\",\"b\",\"c\",\"d\",\"e\",\"f\"]\n",
    "list_2 = [ \"Hello\", \"Bye\", 88, True, 88.657, [\"Ok\",2,7] ] #Note that lists can also store other lists\n",
    "print(\"list_1 =\",list_1)\n",
    "print(\"list_2 =\",list_2)\n",
    "print(\"list_1 + list_2 =\",list_1 + list_2) #Adds elements of list_2 to list_1\n",
    "list_1.append(list_2) #Adds content of list_2 to list_1 as a sub-list\n",
    "print(\"list_1.append(list_2) =\", list_1)"
   ]
  },
  {
   "cell_type": "markdown",
   "metadata": {},
   "source": [
    "#### Slicing and indexing lists: Selecting elements within a list\n",
    "\n",
    "One of the most common operations in lists is that of selecting its elements. **Indexing** refers to the selection of individual elements from a list, while **slicing** refers to the selection of a portion or range of a list. Note that neither indexing nor slicing alter the list being handled. Also, list indexes in Python start with 0 when counting from start to end, see image bellow.\n",
    "\n",
    "![Alt Text](./Imgs/SlicingPython_2.png)\n",
    "\n",
    "Have a try in the following cell:"
   ]
  },
  {
   "cell_type": "code",
   "execution_count": 13,
   "metadata": {},
   "outputs": [],
   "source": [
    "list_1 = [\"a\",\"b\",\"c\",\"d\",\"e\",\"f\"]\n",
    "#Try indexing or slicing list_1\n"
   ]
  },
  {
   "cell_type": "code",
   "execution_count": null,
   "metadata": {},
   "outputs": [],
   "source": [
    "list_1 = [\"a\",\"b\",\"c\",\"d\",\"e\",\"f\"]\n",
    "list_2 = [ \"Hello\", \"Bye\", 88, [\"Ok\",2,7] ]\n",
    "\n",
    "#Indexing examples\n",
    "print(\"|Indexing examples|\")\n",
    "print(\"list_1[0] =\", list_1[0]) #Prints first element within list_1\n",
    "print(\"list_2[-1] =\", list_2[-1]) #Prints last element of list_2. Last element of list_2 is a list.\n",
    "print(\"list_2[-1][0] =\", list_2[-1][0]) #Prints first element of list that was within list_2\n",
    "print(\"------------\")\n",
    "\n",
    "#Slicing examples\n",
    "print(\"|Slicing examples|\")\n",
    "print(\"list_1[:2] =\", list_1[:2]) #Prints the first two elements\n",
    "print(\"list_1[2:] =\", list_1[2:]) #Prints everything after the first two elements\n",
    "print(\"list_1[:-2] =\", list_1[:-2]) #Prints the first two elements\n",
    "print(\"list_1[-2:] =\", list_1[-2:]) #Prints the first two elements\n",
    "\n",
    "\n",
    "#While lists were indexed and sliced, they were not altered\n",
    "print(\"------------\")\n",
    "print(\"list_1 =\", list_1)\n",
    "print(\"list_2 =\", list_2)"
   ]
  },
  {
   "cell_type": "code",
   "execution_count": null,
   "metadata": {},
   "outputs": [],
   "source": [
    "#Strings can also be treated as lists of characters\n",
    "string = \"Hello World!\"\n",
    "print(\"string[0] =\",string[0])\n",
    "print(\"------------\")\n",
    "print(\"string =\", string)"
   ]
  },
  {
   "cell_type": "markdown",
   "metadata": {},
   "source": [
    "## Loops/Cycles.\n",
    "**Loops** are a sequence of instructions that is continually repeated until a certain condition is reached. There are two types of loops used in programming: **while** loops and **for** loops.\n",
    "\n",
    "- **while** loops make use of one or more reporter variables."
   ]
  },
  {
   "cell_type": "code",
   "execution_count": null,
   "metadata": {},
   "outputs": [],
   "source": [
    "counter = 1\n",
    "while counter <= 5 :\n",
    "    print(\"Counter:\",counter)\n",
    "    counter += 1 #This is the same as writing counter = counter + 1"
   ]
  },
  {
   "cell_type": "markdown",
   "metadata": {},
   "source": [
    "- **for** loops use an indexing variable that automatically increases with each cycle of the loop."
   ]
  },
  {
   "cell_type": "code",
   "execution_count": null,
   "metadata": {},
   "outputs": [],
   "source": [
    "for counter in range(1,6) : #range(1,5) would yield a counter that only goes up to 4. The end integer of the range is always excluded.\n",
    "    print(\"Counter:\",counter)"
   ]
  },
  {
   "cell_type": "markdown",
   "metadata": {},
   "source": [
    "Let's assume we have a list consisting of 1.2 million sub-lists, containing 4 elements each.\n",
    "\n",
    "> list = [ ..., [element_1, element_2, element_3, element_4, element_5], [element_1, element_2, element_3, element_4, element_5], ... ]\n",
    "\n",
    "Imagine that a company wants you to verify if one of the sublists contains a particular number within it. That's a lot right? Luckily we can use for loops to easily traverse through lists in two different ways:"
   ]
  },
  {
   "cell_type": "code",
   "execution_count": null,
   "metadata": {},
   "outputs": [],
   "source": [
    "#Way 1: For loop increases counter i, which in turn used to index list_1\n",
    "\n",
    "#The company is looking for the ID number 6789\n",
    "list_1 = [ [\"Darling\", \"don't\", \"you\", \"miss\", \"me\"], [\"Darling\", \"don't\", \"you\", \"miss\", \"me\"], [\"Darling\", \"don't\", \"you\", \"miss\", 6789]]\n",
    "for i in range(len(list_1)) :\n",
    "    if 6789 in list_1[i] :\n",
    "        print(\"Match found in list number\",i+1) #'i + 1' because indexing in Python starts in 0"
   ]
  },
  {
   "cell_type": "code",
   "execution_count": null,
   "metadata": {},
   "outputs": [],
   "source": [
    "#Way 2: For loop automatically indexes elements in each cycle\n",
    "\n",
    "#The company is looking for the ID number 6789\n",
    "list_1 = [ [\"Darling\", \"don't\", \"you\", \"miss\", \"me\"], [\"Darling\", \"don't\", \"you\", \"miss\", \"me\"], [\"Darling\", \"don't\", \"you\", \"miss\", 6789]]\n",
    "counter = 1 #Counter was only used to report list position if a match is found\n",
    "for element in list_1 :\n",
    "    if 6789 in element :\n",
    "        print(\"Match found in list number\",counter) #No need for external operations thanks to user-controlled counter\n",
    "    counter += 1"
   ]
  },
  {
   "cell_type": "markdown",
   "metadata": {},
   "source": [
    "## Functions.\n",
    "We can modularize programs by assigning repetitive tasks to **functions**. We can structure and define functions in Python in the following manner:"
   ]
  },
  {
   "cell_type": "code",
   "execution_count": null,
   "metadata": {},
   "outputs": [],
   "source": [
    "#This is a function that calculates the average of n numbers stored in a list\n",
    "def calculateAverage(list_whatever) :\n",
    "    sumNum = 0\n",
    "    for i in range(len(list_whatever)) :\n",
    "        sumNum +=  list_whatever[i]\n",
    "    return sumNum/len(list_whatever)\n",
    "\n",
    "#This is a function that calculates the global standard deviation, given a list of numbers and an average\n",
    "def calculateSD(average, list_whatever) :\n",
    "    sumNum = 0\n",
    "    for number in list_whatever :\n",
    "        sumNum += (number - average)**2 \n",
    "    return sumNum/len(list_whatever)\n",
    "\n",
    "list_1 = [57,67,65,67,69] #Initialize list_1 with values\n",
    "average = calculateAverage(list_1) #Calls calculateAverage and stores returned value into 'average' variable\n",
    "print(\"The average of list_1 is\", average)\n",
    "print(\"The SD of list_1 is\", calculateSD(average, list_1))"
   ]
  },
  {
   "cell_type": "markdown",
   "metadata": {},
   "source": [
    "**PRACTICE 3.** Make a progam that utilizes **functions** to calculate the maximum value stored within a list."
   ]
  },
  {
   "cell_type": "code",
   "execution_count": null,
   "metadata": {},
   "outputs": [],
   "source": [
    "list_1 = [57,47,65,76,69]\n",
    "\n",
    "#Code to help you get started\n",
    "maximum = list_1[0]\n",
    "for number in list_1 :\n",
    "    #Write your code here (think about > and < conditionals!)\n",
    "\n"
   ]
  },
  {
   "cell_type": "markdown",
   "metadata": {},
   "source": [
    "## Read user input in Python.\n",
    "Reading input from users is key to creating interactive terminal programs."
   ]
  },
  {
   "cell_type": "code",
   "execution_count": 23,
   "metadata": {},
   "outputs": [
    {
     "name": "stdout",
     "output_type": "stream",
     "text": [
      "Do you want this program to continue running? (Y/y | N/n)Y\n",
      "Continue process...\n",
      "Do you want this program to continue running? (Y/y | N/n)N\n",
      "Ending program...\n"
     ]
    }
   ],
   "source": [
    "#Hit 'Enter' once a response is provided in the input space\n",
    "end = False\n",
    "while end == False :\n",
    "    userInput = str(input(\"Do you want this program to continue running? (Y/y | N/n)\")) #Reads user input and specifies data type\n",
    "    if userInput in ['y','Y'] :\n",
    "        print(\"Continue process...\")\n",
    "    elif userInput in ['N','n'] :\n",
    "        print(\"Ending program...\")\n",
    "        end = True\n",
    "    else :\n",
    "        print(\"Error: Unknown input.\")"
   ]
  },
  {
   "cell_type": "markdown",
   "metadata": {},
   "source": [
    "## Read from files in Python.\n",
    "Being able to read content from files and properly organize it in lists is perhaps one of the most important skills in Python programming. Let's provide an example of a program capable of reading a tab delimited file (i.e. each column is separated by '\\t') containing annotations of an organism's genome. The program will be splitting the annotations based on strands (can be '+' or '-').\n",
    "\n",
    "> Chromosome Accession | Gene Name | Feature | Start | End | Score | **Strand** | Coverage | Comments\n",
    "\n",
    "> NC_000913.3 \tthrL\tCDS \t190 \t255 \t. \t**+** \t0 \tID=cds0;Parent=gene0;Dbxref=ASAP:ABE-0000006,UniProtKB/Swiss-Prot:P0AD86,Genbank:NP_414542.1,EcoGene:EG11277,GeneID:944742;Name=NP_414542.1;Ontology_term=GO:0009088;gbkey=CDS;gene=thrL;go_process=threonine biosynthetic process|0009088||;product=thr operon leader peptide;protein_id=NP_414542.1;transl_table=11"
   ]
  },
  {
   "cell_type": "code",
   "execution_count": null,
   "metadata": {},
   "outputs": [],
   "source": [
    "#It gets a little complicated from now on guys.\n",
    "gff_file = './Files/RNA_FeaturesNoRedGeneNames.gff'\n",
    "\n",
    "def readGff(gff_file) :\n",
    "    splitContent = [ [],[] ] #We will store all of the '+' stranded genes in the first sublist, and all the '-' stranded genes in the second sublist\n",
    "    with open(gff_file) as f:\n",
    "        for line in f:\n",
    "            splitLine = line.strip().split('\\t') #Strip removes newline characters ('\\n'), and split splits a string into a list based on the separator used ('\\t' in this case, since it is a tab delimited file)\n",
    "            if \"+ \" == splitLine[6] :\n",
    "                #print(\"Test_1\") #Checker\n",
    "                splitContent[0] += [splitLine]\n",
    "            elif \"- \" == splitLine[6] :\n",
    "                #print(\"Test_2\") #Checker\n",
    "                splitContent[1] += [splitLine]\n",
    "    return splitContent\n",
    "\n",
    "#Let's test our function\n",
    "splitStrand = readGff(gff_file)\n",
    "#print(splitStrand[0][0]) #This should yield the first entry of the first sublist (i.e. a single '+' stranded annotation)\n",
    "print('-----------------------------------------------------------')\n",
    "#print(splitStrand[1][0]) #This should yielf the first entry of the second sublist (i.e. a single '-' stranded annotation)"
   ]
  },
  {
   "cell_type": "markdown",
   "metadata": {},
   "source": [
    "## Packages.\n",
    "In this section we will simply be exemplifying the art of importing packages, while mentioning some of the most popular packages in Python. We will make use of some of these packages in future courses."
   ]
  },
  {
   "cell_type": "code",
   "execution_count": null,
   "metadata": {},
   "outputs": [],
   "source": [
    "#To import a whole package\n",
    "import math as mt\n",
    "print(mt.sqrt(4))"
   ]
  },
  {
   "cell_type": "code",
   "execution_count": null,
   "metadata": {},
   "outputs": [],
   "source": [
    "#To import a single method from a package\n",
    "from math import sqrt\n",
    "print(sqrt(4))"
   ]
  },
  {
   "cell_type": "markdown",
   "metadata": {},
   "source": [
    "Additionally, you can save functions you have made in external files in Python, and import them within your program as packages.\n",
    "\n",
    "**Common packages:**\n",
    "\n",
    "- Math : Already found in most Python installations. Expands upon Python's basic math methods.\n",
    "- [Pandas](http://pandas.pydata.org/) : Great for handling data bases.\n",
    "- [Seaborn](https://seaborn.pydata.org/) : Our favorite standalone plotting and graphing package - outside those available for R.\n",
    "- [Turtle](https://docs.python.org/2/library/turtle.html) : Simplest pixel-by-pixel art tool.\n",
    "- [PyQt](https://www.riverbankcomputing.com/software/pyqt/download5) : Best documented package for GUI design. Great in combination with the C++ Qt Workflow.\n",
    "- [Scikit-learn](http://scikit-learn.org/stable/) : Most complete machine learning library for Python.\n",
    "- [BioPython](https://biopython.org/) : Great for simple tasks in the field of Bioinformatics."
   ]
  },
  {
   "cell_type": "markdown",
   "metadata": {},
   "source": [
    "## Final Exercise.\n",
    "If you've done most of the exercises found throughout this tutorial, you're most likely ready to start writing your own programs. As a final test of your skills, we will be making a program requested by the hypothetical Pharmaceutical company *GotPharma?*. \n",
    "\n",
    "- *GotPharma?*'s request:\n",
    "> \"Using available tools, we have produced a series of genome annotation files for the bacterial strain, *E. imaginaris*. These tools are only able to annotate genic regions, yet we are interested in studying expression patterns found within intergenic regions. We need a tool that can add intergenic annotations to our genic annotation files.\"\n",
    "\n",
    "![Alt Text](./Imgs/IntergenicExample.png)"
   ]
  },
  {
   "cell_type": "code",
   "execution_count": 1,
   "metadata": {},
   "outputs": [],
   "source": [
    "gff_file = './Files/RNA_FeaturesNoRedGeneNames.gff' #See 'Read from files in Python' section for annotation info\n",
    "\n",
    "def readGff(gff_file) :\n",
    "    splitContent = [ [],[] ] #We will store all of the '+' stranded genes in the first sublist, and all the '-' stranded genes in the second sublist\n",
    "    with open(gff_file) as f:\n",
    "        for line in f:\n",
    "            splitLine = line.strip().split('\\t') #Strip removes newline characters ('\\n'), and split splits a string into a list based on the separator used ('\\t' in this case, since it is a tab delimited file)\n",
    "            if \"+ \" == splitLine[6] :\n",
    "                #print(\"Test_1\") #Checker\n",
    "                splitContent[0] += [splitLine]\n",
    "            elif \"- \" == splitLine[6] :\n",
    "                #print(\"Test_2\") #Checker\n",
    "                splitContent[1] += [splitLine]\n",
    "    return splitContent\n",
    "\n",
    "gffContent = readGff(gff_file) #Runs the function above and stores result in a variable\n",
    "#print(gffContent[0]) #All genes shown here will be within the positive (+) strand. Uncomment me and see!\n",
    "#print(gffContent[1]) #All genes shown here will be within the positive (-) strand. Uncomment me and see!\n",
    "#print(gffContent[0][0]) #This shows a single positive strand gene entry. Uncomment me and see!\n",
    "#print(gffContent[1][0]) #This shows a single negative strand gene entry. Uncomment me and see!\n",
    "\n",
    "#GFF Format:                                    v      v\n",
    "#Chromosome Accession | Gene Name | Feature | Start | End | Score | Strand | Coverage | Comments\n",
    "#Assume that the records in the gff file are ordered according to start and end positions\n",
    "#for record in gffContent[0] : #Loop over positive strand\n",
    "    #Write your code here.\n",
    "\n",
    "\n",
    "#for record in gffContent[1] : #Loop over negative strand\n",
    "    #Write your code here.\n"
   ]
  },
  {
   "cell_type": "markdown",
   "metadata": {},
   "source": [
    "***\n",
    "#### Course authors: \n",
    "- [Charles Sanfiorenzo](https://github.com/CharlesSanfiorenzo/Bioinformatics) - csanfior@caltech.edu\n",
    "- [Victor Irizarry](#GithubLink) - victor.irizarry2@upr.edu"
   ]
  }
 ],
 "metadata": {
  "celltoolbar": "Raw Cell Format",
  "kernelspec": {
   "display_name": "Python 3",
   "language": "python",
   "name": "python3"
  },
  "language_info": {
   "codemirror_mode": {
    "name": "ipython",
    "version": 3
   },
   "file_extension": ".py",
   "mimetype": "text/x-python",
   "name": "python",
   "nbconvert_exporter": "python",
   "pygments_lexer": "ipython3",
   "version": "3.5.2"
  }
 },
 "nbformat": 4,
 "nbformat_minor": 2
}
